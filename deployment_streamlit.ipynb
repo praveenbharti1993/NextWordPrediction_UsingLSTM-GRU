{
 "cells": [
  {
   "cell_type": "code",
   "execution_count": 9,
   "id": "26fcabf9-cc0b-4a6a-97c7-eaf90ba83e5c",
   "metadata": {},
   "outputs": [],
   "source": [
    "import streamlit as st\n",
    "import numpy as np\n",
    "import pickle\n",
    "from tensorflow.keras.models import load_model\n",
    "from tensorflow.keras.preprocessing.sequence import pad_sequences\n",
    "import warnings\n",
    "warnings.filterwarnings('ignore')"
   ]
  },
  {
   "cell_type": "code",
   "execution_count": 10,
   "id": "4e079c69-4e71-4bfd-bff1-57a65a028101",
   "metadata": {},
   "outputs": [
    {
     "name": "stderr",
     "output_type": "stream",
     "text": [
      "WARNING:absl:Compiled the loaded model, but the compiled metrics have yet to be built. `model.compile_metrics` will be empty until you train or evaluate the model.\n"
     ]
    }
   ],
   "source": [
    "#Load the model\n",
    "model=load_model('next_word_lstm.h5')"
   ]
  },
  {
   "cell_type": "code",
   "execution_count": 11,
   "id": "0353c30d-6d9a-4bd3-994f-b484391d7ed9",
   "metadata": {},
   "outputs": [],
   "source": [
    "#Load the tokenizer\n",
    "with open ('tokenizer.pickle','rb') as file:\n",
    "    tokenizer=pickle.load(file)"
   ]
  },
  {
   "cell_type": "code",
   "execution_count": 12,
   "id": "69fae2ea-6d79-4c95-b1d3-4da628e7873d",
   "metadata": {},
   "outputs": [],
   "source": [
    "#Function to predict the next word\n",
    "def predict_next_word(model,tokenizer,text,max_sequence_len):\n",
    "    token_list=tokenizer.texts_to_sequences([text])[0]\n",
    "    if len(token_list)>=max_sequence_len:\n",
    "        token_list=token_list[-(max_sequence_len-1):]\n",
    "    token_list=pad_sequences([token_list],maxlen=max_sequence_len-1,padding='pre')\n",
    "    predicted=model.predict(token_list,verbose=0)\n",
    "    predicted_word_next=np.argmax(predicted,axis=1)\n",
    "    for word,index in tokenizer.word_index.items():\n",
    "        if index==predicted_word_next:\n",
    "            return word\n",
    "    return None"
   ]
  },
  {
   "cell_type": "code",
   "execution_count": 13,
   "id": "3983d4d5-b385-48db-8fdc-566e17bf59a6",
   "metadata": {},
   "outputs": [],
   "source": [
    "#streamlit app\n",
    "st.title(\"Next word prediction by lstm\")\n",
    "input_text=st.text_input(\"Enter the sequence of word\",'To be or not to')\n",
    "st.button('Predict next word')\n",
    "if st.button('Predict next word'):\n",
    "    max_sequence_len=model.input_shape[1]+1\n",
    "    next_word= predict_next_word(model,tokenizer,text,max_sequence_len)\n",
    "    st.write(f'Next_word:{next_word}')"
   ]
  }
 ],
 "metadata": {
  "kernelspec": {
   "display_name": "Python 3 (ipykernel)",
   "language": "python",
   "name": "python3"
  },
  "language_info": {
   "codemirror_mode": {
    "name": "ipython",
    "version": 3
   },
   "file_extension": ".py",
   "mimetype": "text/x-python",
   "name": "python",
   "nbconvert_exporter": "python",
   "pygments_lexer": "ipython3",
   "version": "3.9.12"
  }
 },
 "nbformat": 4,
 "nbformat_minor": 5
}
